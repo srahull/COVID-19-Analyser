{
 "cells": [
  {
   "cell_type": "markdown",
   "metadata": {},
   "source": [
    "### Importing necessary libraries"
   ]
  },
  {
   "cell_type": "code",
   "execution_count": null,
   "metadata": {},
   "outputs": [],
   "source": [
    "import pandas as pd\n",
    "import numpy as np\n",
    "import plotly.graph_objects as go\n",
    "import plotly.express as px"
   ]
  },
  {
   "cell_type": "code",
   "execution_count": null,
   "metadata": {},
   "outputs": [],
   "source": [
    "# Use pip install plotly==4.7.1\n",
    "#or\n",
    "#  conda install -c plotly plotly=4.7.1\n",
    "# to install plotly for this project"
   ]
  },
  {
   "cell_type": "markdown",
   "metadata": {},
   "source": [
    "## Loading Data  "
   ]
  },
  {
   "cell_type": "markdown",
   "metadata": {},
   "source": [
    "#### The following read commands contains link to the raw github repo of COVID-19 Data Repository by the Center for Systems Science and Engineering (CSSE) at Johns Hopkins University. Below is the link to the repository:\n",
    "\n",
    "### https://github.com/CSSEGISandData/COVID-19\n",
    "\n",
    "#### In the above repository there are many data files, but the one we use are cssc covid19 times series. Below is the direct link:\n",
    "### https://github.com/CSSEGISandData/COVID-19/tree/master/csse_covid_19_data/csse_covid_19_time_series"
   ]
  },
  {
   "cell_type": "code",
   "execution_count": null,
   "metadata": {},
   "outputs": [],
   "source": [
    "df_confirmed_us = pd.read_csv('https://raw.githubusercontent.com/CSSEGISandData/COVID-19/master/'\n",
    "                              'csse_covid_19_data/csse_covid_19_time_series/time_series_covid19_confirmed_US.csv')\n",
    "\n",
    "df_confirmed_global = pd.read_csv('https://raw.githubusercontent.com/CSSEGISandData/COVID-19/master/'\n",
    "                                  'csse_covid_19_data/csse_covid_19_time_series/time_series_covid19_confirmed_global.csv')\n",
    "\n",
    "df_deaths_us = pd.read_csv('https://raw.githubusercontent.com/CSSEGISandData/COVID-19/master/'\n",
    "                           'csse_covid_19_data/csse_covid_19_time_series/time_series_covid19_deaths_US.csv')\n",
    "\n",
    "df_deaths_global = pd.read_csv('https://raw.githubusercontent.com/CSSEGISandData/COVID-19/master/'\n",
    "                               'csse_covid_19_data/csse_covid_19_time_series/time_series_covid19_deaths_global.csv')\n",
    "\n",
    "df_recovered_global = pd.read_csv('https://raw.githubusercontent.com/CSSEGISandData/COVID-19/master/'\n",
    "                                  'csse_covid_19_data/csse_covid_19_time_series/time_series_covid19_recovered_global.csv')"
   ]
  },
  {
   "cell_type": "code",
   "execution_count": null,
   "metadata": {},
   "outputs": [],
   "source": [
    "df_confirmed_global"
   ]
  },
  {
   "cell_type": "markdown",
   "metadata": {},
   "source": [
    "### To calculate total global cases per day, we sum the values for each day across all 266 rows. "
   ]
  },
  {
   "cell_type": "code",
   "execution_count": null,
   "metadata": {},
   "outputs": [],
   "source": [
    "# Total cases per day\n",
    "confirmed_global = df_confirmed_global.drop(labels=['Province/State','Lat', 'Long'], axis='columns')\n",
    "confirmed_global = confirmed_global.sum(axis='index', numeric_only=True)\n",
    "confirmed_global"
   ]
  },
  {
   "cell_type": "markdown",
   "metadata": {},
   "source": [
    "### The following piece of code will produce an interactive plot. You can interact with the plot by hovering the mouse on the curve, zoom in/out, panning etc."
   ]
  },
  {
   "cell_type": "code",
   "execution_count": null,
   "metadata": {},
   "outputs": [],
   "source": [
    "fig = go.Figure(\n",
    "    data=[go.Scatter(x=confirmed_global.index, y=confirmed_global.values)],\n",
    "    layout=go.Layout(\n",
    "        title=go.layout.Title(text=\"Confirmed Cases per day (Global)\"),\n",
    "        xaxis_title='Days',\n",
    "        yaxis_title='Number of Cases'\n",
    "    )\n",
    ")\n",
    "\n",
    "fig.show()"
   ]
  },
  {
   "cell_type": "code",
   "execution_count": null,
   "metadata": {},
   "outputs": [],
   "source": [
    "fig.update_layout(title='Confirmed Cases (Global) per day (Log Scale)',\n",
    "                  yaxis_title='Number of Cases (Log)',\n",
    "                  yaxis_type=\"log\",\n",
    "                 )\n",
    "fig.show()"
   ]
  },
  {
   "cell_type": "markdown",
   "metadata": {},
   "source": [
    "### In the following piece of code we try to evaluate whether the number of cases has peaked or not. "
   ]
  },
  {
   "cell_type": "code",
   "execution_count": null,
   "metadata": {},
   "outputs": [],
   "source": [
    "# confirmed cases per week\n",
    "confirmed_global_perweek = confirmed_global[[x for x in range(len(confirmed_global)) if x % 7 == 6]]\n",
    "\n",
    "\n",
    "# computing the number of new cases per week\n",
    "newcases_global_perweek = np.diff(confirmed_global_perweek.to_numpy(), n = 1)\n",
    "newcases_global_perweek = np.insert(newcases_global_perweek, 0, confirmed_global_perweek.iloc[0])\n",
    "newcases_global_perweek = pd.Series(newcases_global_perweek, \n",
    "                                           index=confirmed_global_perweek.index)\n",
    "newcases_global_perweek\n",
    "\n"
   ]
  },
  {
   "cell_type": "code",
   "execution_count": null,
   "metadata": {},
   "outputs": [],
   "source": [
    "fig = go.Figure()\n",
    "\n",
    "fig.add_trace(go.Scatter(\n",
    "    x=newcases_global_perweek.index,\n",
    "    y=newcases_global_perweek.values\n",
    "))\n",
    "\n",
    "fig.update_layout(title='Confirmed New Cases (Global) per week',\n",
    "                   xaxis_title='Weeks (ending on)',\n",
    "                   yaxis_title='New Cases')\n",
    "\n",
    "fig.show()"
   ]
  },
  {
   "cell_type": "markdown",
   "metadata": {},
   "source": [
    "### Repeating the same procedure for US cases"
   ]
  },
  {
   "cell_type": "code",
   "execution_count": null,
   "metadata": {},
   "outputs": [],
   "source": [
    "df_confirmed_us"
   ]
  },
  {
   "cell_type": "code",
   "execution_count": null,
   "metadata": {},
   "outputs": [],
   "source": [
    "confirmed_us = df_confirmed_us.drop(labels=['UID', 'iso2', 'iso3', 'code3','FIPS','Lat','Long_'],\n",
    "                                    axis='columns')\n",
    "confirmed_us = confirmed_us.sum(axis='index', numeric_only=True)\n",
    "confirmed_us"
   ]
  },
  {
   "cell_type": "code",
   "execution_count": null,
   "metadata": {},
   "outputs": [],
   "source": [
    "fig = go.Figure()\n",
    "\n",
    "fig.add_trace(go.Scatter(\n",
    "    x=confirmed_us.index,\n",
    "    y=confirmed_us.values,\n",
    "    line=dict(color='firebrick')\n",
    "))\n",
    "\n",
    "fig.update_layout(title='Confirmed Cases per day (US)',\n",
    "                   xaxis_title='Days',\n",
    "                   yaxis_title='Number of Cases')\n",
    "\n",
    "fig.show()"
   ]
  },
  {
   "cell_type": "code",
   "execution_count": null,
   "metadata": {},
   "outputs": [],
   "source": [
    "fig.update_layout(title='Confirmed Cases (US) per day (Log Scale)',\n",
    "                  yaxis_title='Number of Cases (Log)',\n",
    "                  yaxis_type=\"log\",\n",
    "                 )\n",
    "fig.show()"
   ]
  },
  {
   "cell_type": "markdown",
   "metadata": {},
   "source": [
    "### Checking the plateue for US "
   ]
  },
  {
   "cell_type": "code",
   "execution_count": null,
   "metadata": {},
   "outputs": [],
   "source": [
    "#computing the number of total cases per week \n",
    "confirmed_us_perweek = confirmed_us[[x for x in range(len(confirmed_us)) if x % 7 == 6]]\n",
    "\n",
    "# computing the number of new cases per week\n",
    "newcases_us_perweek = np.diff(confirmed_us_perweek.to_numpy(), n = 1)\n",
    "newcases_us_perweek = np.insert(newcases_us_perweek, 0, confirmed_us_perweek.iloc[0])\n",
    "newcases_us_perweek = pd.Series(newcases_us_perweek, \n",
    "                                           index=confirmed_us_perweek.index)\n",
    "newcases_us_perweek"
   ]
  },
  {
   "cell_type": "code",
   "execution_count": null,
   "metadata": {},
   "outputs": [],
   "source": [
    "fig_us_newcases = go.Figure()\n",
    "\n",
    "fig_us_newcases.add_trace(go.Scatter(\n",
    "    x=newcases_us_perweek.index,\n",
    "    y=newcases_us_perweek.values,\n",
    "    line=dict(color='firebrick')\n",
    "))\n",
    "\n",
    "fig_us_newcases.update_layout(title='Confirmed New Cases (US) per week',\n",
    "                   xaxis_title='Weeks (ending on)',\n",
    "                   yaxis_title='Number of New Cases ')\n",
    "\n",
    "fig_us_newcases.show()"
   ]
  },
  {
   "cell_type": "markdown",
   "metadata": {},
   "source": [
    "### Analyzing the recovery dataset in the same manner "
   ]
  },
  {
   "cell_type": "code",
   "execution_count": null,
   "metadata": {},
   "outputs": [],
   "source": [
    "# RECOVERED CASES (GLOBAL)\n",
    "recovered_global = df_recovered_global.drop(labels=['Province/State','Lat', 'Long'], axis='columns')\n",
    "recovered_global = recovered_global.sum(axis='index', numeric_only=True)\n",
    "recovered_global"
   ]
  },
  {
   "cell_type": "code",
   "execution_count": null,
   "metadata": {},
   "outputs": [],
   "source": [
    "fig = go.Figure()\n",
    "\n",
    "fig.add_trace(go.Scatter(\n",
    "    x=recovered_global.index,\n",
    "    y=recovered_global.values,\n",
    "    line=dict(color='seagreen')\n",
    "))\n",
    "\n",
    "fig.update_layout(title='Recovered Cases per day (Global)',\n",
    "                   xaxis_title='Days',\n",
    "                   yaxis_title='Number of Cases ')\n",
    "\n",
    "fig.show()"
   ]
  },
  {
   "cell_type": "code",
   "execution_count": null,
   "metadata": {},
   "outputs": [],
   "source": [
    "fig.update_layout(title='Recovered Cases (Global) per day (Log Scale)',\n",
    "                  yaxis_title='Number of Cases (Log)',\n",
    "                  yaxis_type=\"log\",\n",
    "                 )\n",
    "fig.show()"
   ]
  },
  {
   "cell_type": "markdown",
   "metadata": {},
   "source": [
    "### Checking new recovered cases per week "
   ]
  },
  {
   "cell_type": "code",
   "execution_count": null,
   "metadata": {},
   "outputs": [],
   "source": [
    "recovered_global_perweek = recovered_global[[x for x in range(len(recovered_global)) if x % 7 == 6]]\n",
    "\n",
    "new_recovered_perweek = np.diff(recovered_global_perweek.to_numpy(), n = 1)\n",
    "new_recovered_perweek = np.insert(new_recovered_perweek, 0, recovered_global_perweek.iloc[0])\n",
    "new_recovered_perweek = pd.Series(new_recovered_perweek, \n",
    "                                           index=recovered_global_perweek.index)\n",
    "new_recovered_perweek"
   ]
  },
  {
   "cell_type": "code",
   "execution_count": null,
   "metadata": {
    "scrolled": true
   },
   "outputs": [],
   "source": [
    "fig = go.Figure()\n",
    "\n",
    "fig.add_trace(go.Scatter(\n",
    "    x=new_recovered_perweek.index,\n",
    "    y=new_recovered_perweek.values,\n",
    "    line=dict(color='seagreen')\n",
    "))\n",
    "\n",
    "fig.update_layout(title='Recovered New Cases (Global) per week',\n",
    "                   xaxis_title='Weeks (ending on)',\n",
    "                   yaxis_title='Number of New Cases')\n",
    "\n",
    "fig.show()"
   ]
  },
  {
   "cell_type": "markdown",
   "metadata": {},
   "source": [
    "### After preliminary data analysis, we move forward to ask more insightful questions. Like:\n",
    "\n",
    "#### 1: Which countries have the highest number of cases\n",
    "#### 2: How many deaths are there in those countries\n",
    "#### 3: What's the death rate in those countries (deaths /cases) * 100"
   ]
  },
  {
   "cell_type": "code",
   "execution_count": null,
   "metadata": {},
   "outputs": [],
   "source": [
    "# Finding the top ten countries based on the most recent cases.\n",
    "top_ten_confirmed = df_confirmed_global.nlargest(n=10, columns= df_confirmed_global.columns[-1], keep='all')\n",
    "\n",
    "top_ten_confirmed = top_ten_confirmed.drop(labels=['Lat','Long','Province/State'], axis='columns')\n",
    "top_ten_confirmed = top_ten_confirmed.set_index('Country/Region', drop=True)# this line is not needed\n",
    "\n",
    "top_ten_confirmed.head()"
   ]
  },
  {
   "cell_type": "code",
   "execution_count": null,
   "metadata": {},
   "outputs": [],
   "source": [
    "# preparing the df for charts\n",
    "\n",
    "top_ten_confirmed = top_ten_confirmed.transpose()\n",
    "top_ten_confirmed = top_ten_confirmed.assign(date=top_ten_confirmed.index)\n",
    "top_ten_confirmed.index = range(len(top_ten_confirmed.index))\n",
    "top_ten_confirmed"
   ]
  },
  {
   "cell_type": "code",
   "execution_count": null,
   "metadata": {},
   "outputs": [],
   "source": [
    "# Converting the df from wide to long format, a necessary step for the plotly line chart in the next cell.\n",
    "\n",
    "top_ten_confirmed_tidy=top_ten_confirmed.melt(id_vars=['date'], var_name='Country', value_name='Total Cases')\n",
    "top_ten_confirmed_tidy"
   ]
  },
  {
   "cell_type": "markdown",
   "metadata": {},
   "source": [
    "### One of the killer features of plotly is that you can interactively hide/unhide certain lines by clicking on the country names in the legend given. Because the curve of US is overshadowing all other curves, this is particularly helpful for a careful analysis of the lesser growing counterparts. Simply click on 'US', it will hide that chart."
   ]
  },
  {
   "cell_type": "code",
   "execution_count": null,
   "metadata": {},
   "outputs": [],
   "source": [
    "import plotly.express as px\n",
    "\n",
    "fig = px.line(top_ten_confirmed_tidy, x=\"date\", y=\"Total Cases\", color=\"Country\", \n",
    "             title='Line charts for top 10 countries')\n",
    "fig.show()"
   ]
  },
  {
   "cell_type": "markdown",
   "metadata": {},
   "source": [
    "##### From the above charts we can see that although earlier Italy was leading the world in total COVID19 cases, somewhere around March 27 the rise of cases in US overtook that of any country in the whole world. One of the major reasons is that Italy declared Nationwide Lockdown on March 03. Most of the states in US started declaring 'shelter-in-place' somewhere around March 19-24.  "
   ]
  },
  {
   "cell_type": "markdown",
   "metadata": {},
   "source": [
    "#### Once we hide US chart, by clicking on it under the legends and wait for figure to recalibrate, we can see each country's chart more clearly. We can see that Spain, Italy, Germany, France and Turkey showing a significant decrease in slope somewhere around April 17 2020, whereas US is yet to see that change. The reason, although different for each country, in the most general sense of speaking is because all of these countries declared 'national lockdown' much before US's states did. And US never really declared a national lockdown. It fell upon each state to declare 'shelter-in-place' for itself. "
   ]
  },
  {
   "cell_type": "markdown",
   "metadata": {},
   "source": [
    "## For this cell, enter the command mode to bring the data back to its proper format.\n",
    "\n",
    "\n",
    "Lockdown data via wikipedia \n",
    "\n",
    "\n",
    "Country State               Start date  End date \n",
    "                            year-mm-dd  year-mm-dd\n",
    "US      California\t        2020-03-19\tN/A\t        State\n",
    "        Clark County, NV\t2020-03-20\tN/A\t        County\n",
    "        Connecticut\t        2020-03-23\t2020-04-22\tState\n",
    "        Illinois\t        2020-03-21\t2020-05-30\t\n",
    "        Kansas City, KS\t    2020-03-24\t2020-04-19\tCity\n",
    "        Massachusetts\t    2020-03-24\t2020-05-04\t\n",
    "        Michigan\t        2020-03-24\t2020-04-13\t\n",
    "        New York\t        2020-03-20\t2020-05-15\t\n",
    "        Oregon\t            2020-03-24\tN/A\t\n",
    "\n",
    "Russia\tMoscow\t            2020-03-30\t2020-05-12\tMetropolitan \n",
    "                            2020-03-28\t2020-04-30\tNation wide\n",
    "\n",
    "UK                          2020-03-23  N/A  \n",
    "\n",
    "Spain                       2020-03-14\t2020-05-09  Nation wide\n",
    "\n",
    "\n",
    "Italy                       2020-03-09\t2020-05-03  Nation wide\n",
    "\n",
    "Brazil Santa Catarina\t    2020-03-17\t2020-04-07\tState\n",
    "       São Paulo\t        2020-03-24\t2020-05-10  State \n",
    "       \n",
    "France                      2020-03-17\t2020-05-11  Nation wide\n",
    "\n",
    "\n",
    "Germany\t                    2020-03-23\t2020-05-10 Nation wide\n",
    "\n",
    "Turkey                      2020-04-23\t2020-04-27 Nation wide\n",
    "\n",
    "Iran                        2020-03-14\t2020-04-20 Nation wide\n",
    "\n",
    "\n"
   ]
  },
  {
   "cell_type": "code",
   "execution_count": null,
   "metadata": {},
   "outputs": [],
   "source": [
    "## I created this friendly function to create a line chart for whatever country you are interested in\n",
    "## The line chart will show new cases per week. Enter the country's name with the first letter capitalized.\n",
    "\n",
    "def create_chart(string):\n",
    "    '''\n",
    "        string: name of the country you are interested in to get new cases per week\n",
    "    '''\n",
    "    temp_df = df_confirmed_global.drop(labels=['Province/State','Lat', 'Long'], axis='columns')\n",
    "    country_cases = temp_df.loc[temp_df['Country/Region']==string].groupby(['Country/Region']).sum().squeeze()\n",
    "    total_cases_perweek = country_cases[[x for x in range(len(country_cases)) if x % 7 == 6]]\n",
    "    new_cases_perweek = np.diff(total_cases_perweek.to_numpy(), n = 1)\n",
    "    new_cases_perweek = np.insert(new_cases_perweek, 0, total_cases_perweek.iloc[0])\n",
    "    new_cases_perweek = pd.Series(new_cases_perweek, \n",
    "                                           index=total_cases_perweek.index)\n",
    "    fig = go.Figure()\n",
    "\n",
    "    fig.add_trace(go.Scatter(\n",
    "            x=new_cases_perweek.index,\n",
    "            y=new_cases_perweek.values\n",
    "        ))\n",
    "\n",
    "    fig.update_layout(title=f'Confirmed New Cases ({string}) per week',\n",
    "                   xaxis_title='Weeks (ending on)',\n",
    "                   yaxis_title='Number of New Cases ')\n",
    "\n",
    "    fig.show()"
   ]
  },
  {
   "cell_type": "markdown",
   "metadata": {},
   "source": [
    "### At the time of writing this, these are some of the countries that came up in top 10 countries. But if something new comes up on another execution of this notebook, feel free to change the name of those countries !"
   ]
  },
  {
   "cell_type": "code",
   "execution_count": null,
   "metadata": {},
   "outputs": [],
   "source": [
    "create_chart('Spain')"
   ]
  },
  {
   "cell_type": "code",
   "execution_count": null,
   "metadata": {},
   "outputs": [],
   "source": [
    "create_chart('Italy')"
   ]
  },
  {
   "cell_type": "code",
   "execution_count": null,
   "metadata": {},
   "outputs": [],
   "source": [
    "create_chart('France')"
   ]
  },
  {
   "cell_type": "code",
   "execution_count": null,
   "metadata": {},
   "outputs": [],
   "source": [
    "create_chart('Iran')"
   ]
  },
  {
   "cell_type": "code",
   "execution_count": null,
   "metadata": {},
   "outputs": [],
   "source": [
    "create_chart('US')"
   ]
  },
  {
   "cell_type": "markdown",
   "metadata": {},
   "source": [
    "#### As we see from the above charts, cases in US peaked not only later than other countries, but the number of new cases are incredibly higher than other countries. Some of that could be accredited to the fact that US is the third highest populated country on this planet. But most of it could be blamed towards the fact that no other country has as much global exposure as US does. The other two countries more populated than US i.e China and India have net migration rate in the negatives. (courtesy- https://www.worldometers.info/world-population/population-by-country/).\n",
    "\n",
    "#### So a national lockdown, including shutdown of air traffic, international and domestic could have been really helpful for the US. "
   ]
  },
  {
   "cell_type": "markdown",
   "metadata": {},
   "source": [
    "#### P.S: We also wanted to study air traffic in the world for this year to see how much impact it had on the outbreak, but were running out time.  "
   ]
  },
  {
   "cell_type": "markdown",
   "metadata": {},
   "source": [
    "### Creating a table of top 50 countries based on cases. Supplementing the table with the total deaths and death rate "
   ]
  },
  {
   "cell_type": "code",
   "execution_count": null,
   "metadata": {},
   "outputs": [],
   "source": [
    "top_50_confirmed_cases = df_confirmed_global.drop(labels=['Lat','Long','Province/State'], axis='columns')\n",
    "\n",
    "# doing this to combine dulpicate countries with differnt state\n",
    "top_50_confirmed_cases = top_50_confirmed_cases.groupby(['Country/Region']).sum()\n",
    "last_column = top_50_confirmed_cases.columns[-1]\n",
    "\n",
    "top_50_confirmed_cases = top_50_confirmed_cases.nlargest(n=50, columns= last_column, keep='all')\n",
    "top_50_inxed_confirmed = top_50_confirmed_cases.index\n",
    "\n",
    "top_50_confirmed_cases =top_50_confirmed_cases.iloc[:,-1]\n",
    "\n",
    "top_50_confirmed_cases[:10]\n"
   ]
  },
  {
   "cell_type": "code",
   "execution_count": null,
   "metadata": {},
   "outputs": [],
   "source": [
    "## Doing the same thing for deaths\n",
    "\n",
    "top_50_confirmed_deaths = df_deaths_global.drop(labels=['Lat','Long','Province/State'], axis='columns')\n",
    "# doing this to combine dulpicates countires with differnt state\n",
    "top_50_confirmed_deaths = top_50_confirmed_deaths.groupby(['Country/Region']).sum()\n",
    "\n",
    "deaths_last_column = top_50_confirmed_deaths.columns[-1]\n",
    "\n",
    "top_50_confirmed_deaths = top_50_confirmed_deaths.loc[top_50_inxed_confirmed]\n",
    "\n",
    "# top_50_confirmed_deaths\n",
    "top_50_confirmed_deaths = top_50_confirmed_deaths.iloc[:,-1]\n",
    "top_50_confirmed_deaths[:10]"
   ]
  },
  {
   "cell_type": "code",
   "execution_count": null,
   "metadata": {},
   "outputs": [],
   "source": [
    "# Merging both series to get a neat table\n",
    "\n",
    "merged_table= pd.concat([top_50_confirmed_cases,top_50_confirmed_deaths], axis=1, sort=False)\n",
    "merged_table.columns = ['Confirmed Cases','Deaths']\n",
    "\n",
    "merged_table['Death rate(%)'] = (merged_table['Deaths']/merged_table['Confirmed Cases'])*100\n",
    "print(\"Table of top 50 countries with the highest cases and deaths as on \", last_column)\n",
    "merged_table"
   ]
  },
  {
   "cell_type": "markdown",
   "metadata": {},
   "source": [
    "### Now we have the table, for the bar chart below we will focus on top 10 countries. "
   ]
  },
  {
   "cell_type": "code",
   "execution_count": null,
   "metadata": {},
   "outputs": [],
   "source": [
    "merged_table_10 = merged_table.iloc[:10, :].sort_values(by='Death rate(%)', ascending=False)\n",
    "merged_table_10"
   ]
  },
  {
   "cell_type": "code",
   "execution_count": null,
   "metadata": {},
   "outputs": [],
   "source": [
    "\n",
    "fig = go.Figure(\n",
    "    data=[\n",
    "        go.Bar(name='Covid19 Cases', x=merged_table_10.index, y=merged_table_10['Confirmed Cases'],\n",
    "               yaxis='y', offsetgroup=1),\n",
    "        go.Bar(name='Deaths', x=merged_table_10.index, y=merged_table_10['Deaths'], yaxis='y', offsetgroup=2)\n",
    "    ],\n",
    "    layout={\n",
    "        'yaxis': {'title': 'Covid19 Cases'},\n",
    "        'yaxis2': {'title': 'Deaths', 'overlaying': 'y', 'side': 'right'}\n",
    "    }\n",
    ")\n",
    "\n",
    "# Change the bar mode\n",
    "fig.update_layout(barmode='group')\n",
    "fig.show()"
   ]
  },
  {
   "cell_type": "markdown",
   "metadata": {},
   "source": [
    "### Bar chart for the comparison of death rates "
   ]
  },
  {
   "cell_type": "code",
   "execution_count": null,
   "metadata": {},
   "outputs": [],
   "source": [
    "fig = go.Figure()\n",
    "\n",
    "fig.add_trace(go.Bar(\n",
    "    x=merged_table_10.index,\n",
    "    y=merged_table_10['Death rate(%)']\n",
    "))\n",
    "\n",
    "fig.update_layout(title='Death Rates (Total Deaths/Total Cases)*100 of ten countries with the most cases',\n",
    "                   xaxis_title='Countries',\n",
    "                   yaxis_title='Death Rate (%) ')\n",
    "\n",
    "fig.show()"
   ]
  },
  {
   "cell_type": "markdown",
   "metadata": {},
   "source": [
    "#### It is quite interesting to see that US has lower death rates than most other countries and this is a testament of US Healthcare and its medical human resources.\n",
    "\n",
    "#### PS: We also wanted to do a study of ratio of senior citizen per million population in top 10 countries based on deaths to see if we can see any correlation. But unfortunately, we were out of time."
   ]
  },
  {
   "cell_type": "markdown",
   "metadata": {},
   "source": [
    "### In the following cells we present plotly animated bubble chart. By pressing the play button, you can see how the cases are growing on a daily basis in different parts of the world. "
   ]
  },
  {
   "cell_type": "code",
   "execution_count": null,
   "metadata": {},
   "outputs": [],
   "source": [
    "# producing the long df for feeding into the plotly graph\n",
    "# below we format the global cases\n",
    "\n",
    "df_global = df_confirmed_global.drop(labels=['Province/State'], axis=1)\n",
    "cases_global_tidy = df_global.melt(id_vars=['Country/Region', 'Lat', 'Long'], var_name='date', value_name='cases')\n",
    "cases_global_tidy"
   ]
  },
  {
   "cell_type": "code",
   "execution_count": null,
   "metadata": {},
   "outputs": [],
   "source": [
    "# here we evaluate global deaths\n",
    "death_global = df_deaths_global.drop(labels=['Province/State'], axis=1)\n",
    "death_global_tidy = death_global.melt(id_vars=['Country/Region', 'Lat', 'Long'], var_name='date', \n",
    "                                      value_name='deaths')\n",
    "\n",
    "cases_global_tidy = cases_global_tidy.assign(deaths=death_global_tidy.deaths)\n",
    "cases_global_tidy"
   ]
  },
  {
   "cell_type": "code",
   "execution_count": null,
   "metadata": {},
   "outputs": [],
   "source": [
    "# Bubble chart for cases around the globe\n",
    "\n",
    "fig = px.scatter_geo(\n",
    "    cases_global_tidy, \n",
    "    lat='Lat',\n",
    "    lon='Long',\n",
    "    hover_name='Country/Region',\n",
    "    size='cases',\n",
    "    projection=\"natural earth\",\n",
    "    title='World COVID-19 Cases',\n",
    "    animation_frame=\"date\"\n",
    ")\n",
    "fig.show()"
   ]
  },
  {
   "cell_type": "code",
   "execution_count": null,
   "metadata": {},
   "outputs": [],
   "source": [
    "# Bubble chart for deaths around the globe\n",
    "\n",
    "fig = px.scatter_geo(\n",
    "    cases_global_tidy, \n",
    "    lat='Lat',\n",
    "    lon='Long',\n",
    "    hover_name='Country/Region',\n",
    "    size='deaths',\n",
    "    projection=\"natural earth\",\n",
    "    title='World COVID-19 Deaths',\n",
    "    animation_frame=\"date\"\n",
    ")\n",
    "fig.show()"
   ]
  }
 ],
 "metadata": {
  "kernelspec": {
   "display_name": "Python 3",
   "language": "python",
   "name": "python3"
  },
  "language_info": {
   "codemirror_mode": {
    "name": "ipython",
    "version": 3
   },
   "file_extension": ".py",
   "mimetype": "text/x-python",
   "name": "python",
   "nbconvert_exporter": "python",
   "pygments_lexer": "ipython3",
   "version": "3.7.3"
  }
 },
 "nbformat": 4,
 "nbformat_minor": 2
}
